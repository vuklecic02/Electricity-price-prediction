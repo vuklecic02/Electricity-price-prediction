{
 "cells": [
  {
   "cell_type": "code",
   "execution_count": 2,
   "id": "690b35e4-0acc-49ed-9625-1b58617ad44e",
   "metadata": {},
   "outputs": [],
   "source": [
    "import os\n",
    "import random\n",
    "import joblib\n",
    "import numpy as np\n",
    "import pandas as pd\n",
    "import matplotlib.pyplot as plt\n",
    "\n",
    "from sklearn.preprocessing import MinMaxScaler, StandardScaler\n",
    "from sklearn.metrics import mean_squared_error, mean_absolute_error\n",
    "\n",
    "# TensorFlow / Keras\n",
    "import tensorflow as tf\n",
    "from tensorflow.keras.models import Sequential\n",
    "from tensorflow.keras.layers import LSTM, GRU, Dense\n",
    "from tensorflow.keras.callbacks import EarlyStopping, ModelCheckpoint"
   ]
  },
  {
   "cell_type": "code",
   "execution_count": 10,
   "id": "088a121b-96d9-4545-b481-3105d1c84519",
   "metadata": {},
   "outputs": [],
   "source": [
    "df = pd.read_csv(\"D:\\\\FON Cetvrta godina\\\\Neuronske mreže\\\\Projekat\\\\Austria.csv\")"
   ]
  },
  {
   "cell_type": "code",
   "execution_count": 12,
   "id": "3edf1b36-f9c1-4c8d-8868-a3dac0b52137",
   "metadata": {},
   "outputs": [
    {
     "name": "stdout",
     "output_type": "stream",
     "text": [
      "<class 'pandas.core.frame.DataFrame'>\n",
      "RangeIndex: 201604 entries, 0 to 201603\n",
      "Data columns (total 8 columns):\n",
      " #   Column                                Non-Null Count   Dtype  \n",
      "---  ------                                --------------   -----  \n",
      " 0   Unnamed: 0                            201604 non-null  int64  \n",
      " 1   utc_timestamp                         201604 non-null  object \n",
      " 2   cet_cest_timestamp                    201604 non-null  object \n",
      " 3   AT_price_day_ahead                    131378 non-null  float64\n",
      " 4   AT_solar_generation_actual            201352 non-null  float64\n",
      " 5   AT_wind_onshore_generation_actual     201406 non-null  float64\n",
      " 6   AT_load_forecast_entsoe_transparency  201598 non-null  float64\n",
      " 7   AT_load_actual_entsoe_transparency    201598 non-null  float64\n",
      "dtypes: float64(5), int64(1), object(2)\n",
      "memory usage: 12.3+ MB\n"
     ]
    }
   ],
   "source": [
    "df.info()"
   ]
  },
  {
   "cell_type": "code",
   "execution_count": 14,
   "id": "8cd8e986-e689-481d-a21b-3f6bbcaef91a",
   "metadata": {},
   "outputs": [],
   "source": [
    "df[\"utc_timestamp\"] = pd.to_datetime(df[\"utc_timestamp\"])"
   ]
  },
  {
   "cell_type": "code",
   "execution_count": 16,
   "id": "7488da39-82f4-43da-9384-201f5785ae53",
   "metadata": {},
   "outputs": [],
   "source": [
    "df = df.set_index(\"utc_timestamp\").sort_index()"
   ]
  },
  {
   "cell_type": "code",
   "execution_count": 18,
   "id": "3041525f-f0f8-4822-8f53-5c9e6c939c0c",
   "metadata": {},
   "outputs": [],
   "source": [
    "target = \"AT_price_day_ahead\""
   ]
  },
  {
   "cell_type": "code",
   "execution_count": 22,
   "id": "606c5fd4-dee2-42ed-a4c0-212aef73b139",
   "metadata": {},
   "outputs": [],
   "source": [
    "df[\"cet_cest_timestamp\"] = pd.to_datetime(df[\"cet_cest_timestamp\"], utc=True)\n",
    "df[\"cet_cest_timestamp\"] = df[\"cet_cest_timestamp\"].dt.tz_convert(\"CET\")  # CET/CEST\n",
    "df[\"hour\"] = df[\"cet_cest_timestamp\"].dt.hour\n",
    "df[\"dayofweek\"] = df[\"cet_cest_timestamp\"].dt.dayofweek  # 0=Monday\n",
    "df[\"month\"] = df[\"cet_cest_timestamp\"].dt.month"
   ]
  },
  {
   "cell_type": "code",
   "execution_count": 24,
   "id": "e6a83700-65c3-4b4b-8d6e-aa5ea44b6f03",
   "metadata": {},
   "outputs": [
    {
     "name": "stdout",
     "output_type": "stream",
     "text": [
      "<class 'pandas.core.frame.DataFrame'>\n",
      "DatetimeIndex: 201604 entries, 2014-12-31 23:00:00+00:00 to 2020-09-30 23:45:00+00:00\n",
      "Data columns (total 10 columns):\n",
      " #   Column                                Non-Null Count   Dtype              \n",
      "---  ------                                --------------   -----              \n",
      " 0   Unnamed: 0                            201604 non-null  int64              \n",
      " 1   cet_cest_timestamp                    201604 non-null  datetime64[ns, CET]\n",
      " 2   AT_price_day_ahead                    131378 non-null  float64            \n",
      " 3   AT_solar_generation_actual            201352 non-null  float64            \n",
      " 4   AT_wind_onshore_generation_actual     201406 non-null  float64            \n",
      " 5   AT_load_forecast_entsoe_transparency  201598 non-null  float64            \n",
      " 6   AT_load_actual_entsoe_transparency    201598 non-null  float64            \n",
      " 7   hour                                  201604 non-null  int32              \n",
      " 8   dayofweek                             201604 non-null  int32              \n",
      " 9   month                                 201604 non-null  int32              \n",
      "dtypes: datetime64[ns, CET](1), float64(5), int32(3), int64(1)\n",
      "memory usage: 14.6 MB\n"
     ]
    }
   ],
   "source": [
    "df.info()"
   ]
  },
  {
   "cell_type": "code",
   "execution_count": 26,
   "id": "ced1265c-75bd-4d1e-8525-2f4b08b5b988",
   "metadata": {},
   "outputs": [],
   "source": [
    "split_index = int(0.7 * len(df))\n",
    "train = df.iloc[:split_index].copy()\n",
    "test = df.iloc[split_index:].copy()"
   ]
  },
  {
   "cell_type": "code",
   "execution_count": 28,
   "id": "8137a37d-400f-4dd0-b2db-f73a77d4e65b",
   "metadata": {},
   "outputs": [],
   "source": [
    "train[target] = train[target].interpolate(method=\"time\").ffill().bfill()"
   ]
  },
  {
   "cell_type": "code",
   "execution_count": 34,
   "id": "716e20a0-53f5-49bd-9137-c2fc860ae729",
   "metadata": {},
   "outputs": [],
   "source": [
    "last_train_value = train[target].iloc[-1]\n",
    "test[target] = test[target].ffill()\n",
    "test[target] = test[target].fillna(last_train_value)"
   ]
  },
  {
   "cell_type": "code",
   "execution_count": 36,
   "id": "f9d65a43-e508-4e39-9e7e-838c0d16b178",
   "metadata": {},
   "outputs": [],
   "source": [
    "scaler_y = MinMaxScaler()\n",
    "scaler_X = MinMaxScaler()"
   ]
  },
  {
   "cell_type": "code",
   "execution_count": 38,
   "id": "5d0989af-391b-453e-94d9-f735d5e74106",
   "metadata": {},
   "outputs": [],
   "source": [
    "y_train_scaled = scaler_y.fit_transform(train[[target]])\n",
    "y_test_scaled = scaler_y.transform(test[[target]])"
   ]
  },
  {
   "cell_type": "code",
   "execution_count": 40,
   "id": "3a599b5c-040d-45f2-afb7-e42e6214fd46",
   "metadata": {},
   "outputs": [],
   "source": [
    "features = [\"hour\", \"dayofweek\", \"month\",\n",
    "            \"AT_solar_generation_actual\", \n",
    "            \"AT_wind_onshore_generation_actual\",\n",
    "            \"AT_load_forecast_entsoe_transparency\",\n",
    "            \"AT_load_actual_entsoe_transparency\"]"
   ]
  },
  {
   "cell_type": "code",
   "execution_count": 42,
   "id": "7b7f705b-ce9f-4cce-aaad-7442b42a8797",
   "metadata": {},
   "outputs": [],
   "source": [
    "for col in features:\n",
    "    train[col] = train[col].ffill().bfill()\n",
    "    test[col] = test[col].ffill()"
   ]
  },
  {
   "cell_type": "code",
   "execution_count": 44,
   "id": "e1e57ebc-fb2e-4216-b549-c6f8e7fa711f",
   "metadata": {},
   "outputs": [],
   "source": [
    "X_train_scaled = scaler_X.fit_transform(train[features])\n",
    "X_test_scaled = scaler_X.transform(test[features])"
   ]
  },
  {
   "cell_type": "code",
   "execution_count": 46,
   "id": "e00592f9-8607-4687-8abb-902fc8a466ed",
   "metadata": {},
   "outputs": [
    {
     "data": {
      "text/plain": [
       "Unnamed: 0                              0\n",
       "cet_cest_timestamp                      0\n",
       "AT_price_day_ahead                      0\n",
       "AT_solar_generation_actual              0\n",
       "AT_wind_onshore_generation_actual       0\n",
       "AT_load_forecast_entsoe_transparency    0\n",
       "AT_load_actual_entsoe_transparency      0\n",
       "hour                                    0\n",
       "dayofweek                               0\n",
       "month                                   0\n",
       "dtype: int64"
      ]
     },
     "execution_count": 46,
     "metadata": {},
     "output_type": "execute_result"
    }
   ],
   "source": [
    "train.isna().sum()"
   ]
  },
  {
   "cell_type": "code",
   "execution_count": 48,
   "id": "25839a04-3f12-4cb9-a721-3aaab97a1825",
   "metadata": {},
   "outputs": [
    {
     "data": {
      "text/plain": [
       "Unnamed: 0                              0\n",
       "cet_cest_timestamp                      0\n",
       "AT_price_day_ahead                      0\n",
       "AT_solar_generation_actual              0\n",
       "AT_wind_onshore_generation_actual       0\n",
       "AT_load_forecast_entsoe_transparency    0\n",
       "AT_load_actual_entsoe_transparency      0\n",
       "hour                                    0\n",
       "dayofweek                               0\n",
       "month                                   0\n",
       "dtype: int64"
      ]
     },
     "execution_count": 48,
     "metadata": {},
     "output_type": "execute_result"
    }
   ],
   "source": [
    "test.isna().sum()"
   ]
  },
  {
   "cell_type": "code",
   "execution_count": 50,
   "id": "21b10e2f-ce7e-4105-8901-9a86f8d67a8a",
   "metadata": {},
   "outputs": [],
   "source": [
    "def create_sequences(y, X, look_back=24):\n",
    "    X_seq, y_seq = [], []\n",
    "    for i in range(len(y) - look_back):\n",
    "        seq_y = y[i:i+look_back]\n",
    "        feat = X[i+look_back]\n",
    "        X_seq.append(np.hstack([seq_y.flatten(), feat]))\n",
    "        y_seq.append(y[i+look_back])\n",
    "    return np.array(X_seq), np.array(y_seq)"
   ]
  },
  {
   "cell_type": "code",
   "execution_count": null,
   "id": "c4f90701-4a57-4c7b-8e6f-6354faf09b1d",
   "metadata": {},
   "outputs": [],
   "source": []
  }
 ],
 "metadata": {
  "kernelspec": {
   "display_name": "Python 3 (ipykernel)",
   "language": "python",
   "name": "python3"
  },
  "language_info": {
   "codemirror_mode": {
    "name": "ipython",
    "version": 3
   },
   "file_extension": ".py",
   "mimetype": "text/x-python",
   "name": "python",
   "nbconvert_exporter": "python",
   "pygments_lexer": "ipython3",
   "version": "3.12.4"
  }
 },
 "nbformat": 4,
 "nbformat_minor": 5
}
